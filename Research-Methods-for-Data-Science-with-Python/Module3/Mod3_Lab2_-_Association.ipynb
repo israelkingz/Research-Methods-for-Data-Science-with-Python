{
 "cells": [
  {
   "cell_type": "markdown",
   "metadata": {},
   "source": [
    "Module 3, Lab 2 - Association\n",
    "=============================\n",
    "\n",
    "In this lab, we will examine how to analyze data for a correlation. Note\n",
    "that a detailed dive into correlational and regression-based research is\n",
    "given in Module 5. However, a brief overview is provided here. I focus\n",
    "on correlation because it is the simplest way to make an association\n",
    "claim, but as we saw in the online lesson, actually the correct analysis\n",
    "depends on your data (continuous, discrete, normal vs non-normal, etc.).\n",
    "Thus, a full illustration of all association techniques would take many,\n",
    "many labs. I focus on correlation here.\n",
    "\n",
    "In this example, you are analyzing customer loyalty data. Your\n",
    "organization uses three measures of loyalty, and you wish to test them\n",
    "out. (To avoid discussions of popular real measures, we will name these\n",
    "`loytalty1`, `loyalty2`, and `loyalty3`).\n",
    "\n",
    "Note that this lab uses the `ggplot2` package for data visualization and\n",
    "the `psych` package for correlation testing. I also assume you are\n",
    "familiar with `ggplot2`. As an alternative to the `psych` tools, we can\n",
    "also use the `Hmisc` package for correlation testing."
   ]
  },
  {
   "cell_type": "code",
   "execution_count": 1,
   "metadata": {
    "collapsed": true
   },
   "outputs": [],
   "source": [
    "#### LOAD PACKAGES ####\n",
    "## Use inline magic command so plots appear in the data frame\n",
    "%matplotlib inline\n",
    "\n",
    "## Next the packages\n",
    "import matplotlib.pyplot as plt\n",
    "import pandas as pd\n",
    "import numpy as np\n",
    "import seaborn as sns\n",
    "import scipy.stats as ss\n",
    "import math"
   ]
  },
  {
   "cell_type": "markdown",
   "metadata": {},
   "source": [
    "You load the data from the CSV file in the github folder for this lab:"
   ]
  },
  {
   "cell_type": "code",
   "execution_count": 2,
   "metadata": {
    "collapsed": true,
    "scrolled": true
   },
   "outputs": [],
   "source": [
    "#### LOAD DATA ####\n",
    "dat = pd.read_csv(\"datasets/loyaltydata.csv\")"
   ]
  },
  {
   "cell_type": "markdown",
   "metadata": {},
   "source": [
    "You inspect the data:"
   ]
  },
  {
   "cell_type": "code",
   "execution_count": 3,
   "metadata": {},
   "outputs": [
    {
     "name": "stdout",
     "output_type": "stream",
     "text": [
      "Index(['Unnamed: 0', 'loyalty1', 'loyalty2', 'loyalty3'], dtype='object')\n"
     ]
    },
    {
     "data": {
      "text/html": [
       "<div>\n",
       "<style scoped>\n",
       "    .dataframe tbody tr th:only-of-type {\n",
       "        vertical-align: middle;\n",
       "    }\n",
       "\n",
       "    .dataframe tbody tr th {\n",
       "        vertical-align: top;\n",
       "    }\n",
       "\n",
       "    .dataframe thead th {\n",
       "        text-align: right;\n",
       "    }\n",
       "</style>\n",
       "<table border=\"1\" class=\"dataframe\">\n",
       "  <thead>\n",
       "    <tr style=\"text-align: right;\">\n",
       "      <th></th>\n",
       "      <th>Unnamed: 0</th>\n",
       "      <th>loyalty1</th>\n",
       "      <th>loyalty2</th>\n",
       "      <th>loyalty3</th>\n",
       "    </tr>\n",
       "  </thead>\n",
       "  <tbody>\n",
       "    <tr>\n",
       "      <th>0</th>\n",
       "      <td>1</td>\n",
       "      <td>9</td>\n",
       "      <td>10</td>\n",
       "      <td>4</td>\n",
       "    </tr>\n",
       "    <tr>\n",
       "      <th>1</th>\n",
       "      <td>2</td>\n",
       "      <td>10</td>\n",
       "      <td>11</td>\n",
       "      <td>5</td>\n",
       "    </tr>\n",
       "    <tr>\n",
       "      <th>2</th>\n",
       "      <td>3</td>\n",
       "      <td>10</td>\n",
       "      <td>10</td>\n",
       "      <td>5</td>\n",
       "    </tr>\n",
       "    <tr>\n",
       "      <th>3</th>\n",
       "      <td>4</td>\n",
       "      <td>9</td>\n",
       "      <td>10</td>\n",
       "      <td>5</td>\n",
       "    </tr>\n",
       "    <tr>\n",
       "      <th>4</th>\n",
       "      <td>5</td>\n",
       "      <td>8</td>\n",
       "      <td>11</td>\n",
       "      <td>4</td>\n",
       "    </tr>\n",
       "  </tbody>\n",
       "</table>\n",
       "</div>"
      ],
      "text/plain": [
       "   Unnamed: 0  loyalty1  loyalty2  loyalty3\n",
       "0           1         9        10         4\n",
       "1           2        10        11         5\n",
       "2           3        10        10         5\n",
       "3           4         9        10         5\n",
       "4           5         8        11         4"
      ]
     },
     "execution_count": 3,
     "metadata": {},
     "output_type": "execute_result"
    }
   ],
   "source": [
    "print(dat.columns)\n",
    "\n",
    "dat.head()"
   ]
  },
  {
   "cell_type": "markdown",
   "metadata": {},
   "source": [
    "There is an ID variable shown as `Unnamed` and scores on a loyalty measures named\n",
    "`loyalty1` through `loyalty3`. \n",
    "\n",
    "****\n",
    "**Note:** You are not yet familiar with the scaling of these measures.\n",
    "***\n",
    "\n",
    "The first thing to do is to explore the variables. The Pandas `describe()` method."
   ]
  },
  {
   "cell_type": "code",
   "execution_count": 4,
   "metadata": {},
   "outputs": [
    {
     "data": {
      "text/html": [
       "<div>\n",
       "<style scoped>\n",
       "    .dataframe tbody tr th:only-of-type {\n",
       "        vertical-align: middle;\n",
       "    }\n",
       "\n",
       "    .dataframe tbody tr th {\n",
       "        vertical-align: top;\n",
       "    }\n",
       "\n",
       "    .dataframe thead th {\n",
       "        text-align: right;\n",
       "    }\n",
       "</style>\n",
       "<table border=\"1\" class=\"dataframe\">\n",
       "  <thead>\n",
       "    <tr style=\"text-align: right;\">\n",
       "      <th></th>\n",
       "      <th>Unnamed: 0</th>\n",
       "      <th>loyalty1</th>\n",
       "      <th>loyalty2</th>\n",
       "      <th>loyalty3</th>\n",
       "    </tr>\n",
       "  </thead>\n",
       "  <tbody>\n",
       "    <tr>\n",
       "      <th>count</th>\n",
       "      <td>1000.000000</td>\n",
       "      <td>1000.000000</td>\n",
       "      <td>1000.000000</td>\n",
       "      <td>1000.000000</td>\n",
       "    </tr>\n",
       "    <tr>\n",
       "      <th>mean</th>\n",
       "      <td>500.500000</td>\n",
       "      <td>9.960000</td>\n",
       "      <td>10.449000</td>\n",
       "      <td>5.072000</td>\n",
       "    </tr>\n",
       "    <tr>\n",
       "      <th>std</th>\n",
       "      <td>288.819436</td>\n",
       "      <td>1.043786</td>\n",
       "      <td>1.332357</td>\n",
       "      <td>1.045901</td>\n",
       "    </tr>\n",
       "    <tr>\n",
       "      <th>min</th>\n",
       "      <td>1.000000</td>\n",
       "      <td>7.000000</td>\n",
       "      <td>7.000000</td>\n",
       "      <td>2.000000</td>\n",
       "    </tr>\n",
       "    <tr>\n",
       "      <th>25%</th>\n",
       "      <td>250.750000</td>\n",
       "      <td>9.000000</td>\n",
       "      <td>10.000000</td>\n",
       "      <td>4.000000</td>\n",
       "    </tr>\n",
       "    <tr>\n",
       "      <th>50%</th>\n",
       "      <td>500.500000</td>\n",
       "      <td>10.000000</td>\n",
       "      <td>10.000000</td>\n",
       "      <td>5.000000</td>\n",
       "    </tr>\n",
       "    <tr>\n",
       "      <th>75%</th>\n",
       "      <td>750.250000</td>\n",
       "      <td>11.000000</td>\n",
       "      <td>11.000000</td>\n",
       "      <td>6.000000</td>\n",
       "    </tr>\n",
       "    <tr>\n",
       "      <th>max</th>\n",
       "      <td>1000.000000</td>\n",
       "      <td>13.000000</td>\n",
       "      <td>16.000000</td>\n",
       "      <td>8.000000</td>\n",
       "    </tr>\n",
       "  </tbody>\n",
       "</table>\n",
       "</div>"
      ],
      "text/plain": [
       "        Unnamed: 0     loyalty1     loyalty2     loyalty3\n",
       "count  1000.000000  1000.000000  1000.000000  1000.000000\n",
       "mean    500.500000     9.960000    10.449000     5.072000\n",
       "std     288.819436     1.043786     1.332357     1.045901\n",
       "min       1.000000     7.000000     7.000000     2.000000\n",
       "25%     250.750000     9.000000    10.000000     4.000000\n",
       "50%     500.500000    10.000000    10.000000     5.000000\n",
       "75%     750.250000    11.000000    11.000000     6.000000\n",
       "max    1000.000000    13.000000    16.000000     8.000000"
      ]
     },
     "execution_count": 4,
     "metadata": {},
     "output_type": "execute_result"
    }
   ],
   "source": [
    "dat.describe()"
   ]
  },
  {
   "cell_type": "markdown",
   "metadata": {},
   "source": [
    "This gives you a sense as to the range and scaling of each loyalty\n",
    "measure.\n",
    "\n",
    "Imagine that each loyalty measure was in common use. You might want to\n",
    "know whether they are highly correlated. We can compute correlations\n",
    "between variables with the Pandas `corr()` method. A subset of the data frame is taken (using the outer `[]` operator) by providing a list (the inner `[]`) of column names."
   ]
  },
  {
   "cell_type": "code",
   "execution_count": 5,
   "metadata": {},
   "outputs": [
    {
     "data": {
      "text/html": [
       "<div>\n",
       "<style scoped>\n",
       "    .dataframe tbody tr th:only-of-type {\n",
       "        vertical-align: middle;\n",
       "    }\n",
       "\n",
       "    .dataframe tbody tr th {\n",
       "        vertical-align: top;\n",
       "    }\n",
       "\n",
       "    .dataframe thead th {\n",
       "        text-align: right;\n",
       "    }\n",
       "</style>\n",
       "<table border=\"1\" class=\"dataframe\">\n",
       "  <thead>\n",
       "    <tr style=\"text-align: right;\">\n",
       "      <th></th>\n",
       "      <th>loyalty1</th>\n",
       "      <th>loyalty2</th>\n",
       "      <th>loyalty3</th>\n",
       "    </tr>\n",
       "  </thead>\n",
       "  <tbody>\n",
       "    <tr>\n",
       "      <th>loyalty1</th>\n",
       "      <td>1.000000</td>\n",
       "      <td>0.395853</td>\n",
       "      <td>0.498695</td>\n",
       "    </tr>\n",
       "    <tr>\n",
       "      <th>loyalty2</th>\n",
       "      <td>0.395853</td>\n",
       "      <td>1.000000</td>\n",
       "      <td>0.573709</td>\n",
       "    </tr>\n",
       "    <tr>\n",
       "      <th>loyalty3</th>\n",
       "      <td>0.498695</td>\n",
       "      <td>0.573709</td>\n",
       "      <td>1.000000</td>\n",
       "    </tr>\n",
       "  </tbody>\n",
       "</table>\n",
       "</div>"
      ],
      "text/plain": [
       "          loyalty1  loyalty2  loyalty3\n",
       "loyalty1  1.000000  0.395853  0.498695\n",
       "loyalty2  0.395853  1.000000  0.573709\n",
       "loyalty3  0.498695  0.573709  1.000000"
      ]
     },
     "execution_count": 5,
     "metadata": {},
     "output_type": "execute_result"
    }
   ],
   "source": [
    "dat[['loyalty1', 'loyalty2', 'loyalty3']].corr()"
   ]
  },
  {
   "cell_type": "markdown",
   "metadata": {},
   "source": [
    "This difficult to read. Let's use the Pandas `round()` method:"
   ]
  },
  {
   "cell_type": "code",
   "execution_count": 6,
   "metadata": {},
   "outputs": [
    {
     "data": {
      "text/html": [
       "<div>\n",
       "<style scoped>\n",
       "    .dataframe tbody tr th:only-of-type {\n",
       "        vertical-align: middle;\n",
       "    }\n",
       "\n",
       "    .dataframe tbody tr th {\n",
       "        vertical-align: top;\n",
       "    }\n",
       "\n",
       "    .dataframe thead th {\n",
       "        text-align: right;\n",
       "    }\n",
       "</style>\n",
       "<table border=\"1\" class=\"dataframe\">\n",
       "  <thead>\n",
       "    <tr style=\"text-align: right;\">\n",
       "      <th></th>\n",
       "      <th>loyalty1</th>\n",
       "      <th>loyalty2</th>\n",
       "      <th>loyalty3</th>\n",
       "    </tr>\n",
       "  </thead>\n",
       "  <tbody>\n",
       "    <tr>\n",
       "      <th>loyalty1</th>\n",
       "      <td>1.0</td>\n",
       "      <td>0.40</td>\n",
       "      <td>0.50</td>\n",
       "    </tr>\n",
       "    <tr>\n",
       "      <th>loyalty2</th>\n",
       "      <td>0.4</td>\n",
       "      <td>1.00</td>\n",
       "      <td>0.57</td>\n",
       "    </tr>\n",
       "    <tr>\n",
       "      <th>loyalty3</th>\n",
       "      <td>0.5</td>\n",
       "      <td>0.57</td>\n",
       "      <td>1.00</td>\n",
       "    </tr>\n",
       "  </tbody>\n",
       "</table>\n",
       "</div>"
      ],
      "text/plain": [
       "          loyalty1  loyalty2  loyalty3\n",
       "loyalty1       1.0      0.40      0.50\n",
       "loyalty2       0.4      1.00      0.57\n",
       "loyalty3       0.5      0.57      1.00"
      ]
     },
     "execution_count": 6,
     "metadata": {},
     "output_type": "execute_result"
    }
   ],
   "source": [
    "corr_mat = dat[['loyalty1', 'loyalty2', 'loyalty3']].corr().round(2)\n",
    "corr_mat"
   ]
  },
  {
   "cell_type": "markdown",
   "metadata": {},
   "source": [
    "We see here that the variables are *not* highly correlated with each\n",
    "other. This is a potential problem.\n",
    "\n",
    "A brief refresher: correlations range between zero (no association\n",
    "between variables) and 1.0 (a one-to-one association). They can also be\n",
    "positive (as one variable increases, so does the other) or negative (as\n",
    "one variable increases, the other decreases)."
   ]
  },
  {
   "cell_type": "markdown",
   "metadata": {},
   "source": [
    "The statistician Jacob Cohen suggested the following guidelines:  \n",
    "\n",
    "<pre>\n",
    "| # | Correlation |  Meaning   |\n",
    "|---|-------------|------------|\n",
    "| 1 |  0.0 - 0.1  | Negligible |\n",
    "| 2 |  0.1 - 0.3  |   Small    |\n",
    "| 3 |  0.3 - 0.5  |   Medium   |\n",
    "| 4 |    0.5 +    |   Large    |\n",
    "</pre>\n",
    "\n",
    "However, given that they are all ostensibly measuring the same thing,\n",
    "loyalty, we should expect much higher correlations (.7-.9).\n",
    "\n",
    "We can also easily visualize this correlation with using the `heatmap` function from the Python Seaborn package. Seaborn is a sophisticated statistical charting package. "
   ]
  },
  {
   "cell_type": "code",
   "execution_count": 7,
   "metadata": {},
   "outputs": [
    {
     "data": {
      "text/plain": [
       "(array([ 0.5,  1.5,  2.5]), <a list of 3 Text xticklabel objects>)"
      ]
     },
     "execution_count": 7,
     "metadata": {},
     "output_type": "execute_result"
    },
    {
     "data": {
      "image/png": "[encoded data removed]",
      "text/plain": [
       "<matplotlib.figure.Figure at 0x14f2d8e0080>"
      ]
     },
     "metadata": {},
     "output_type": "display_data"
    }
   ],
   "source": [
    "sns.heatmap(corr_mat, vmax=1.0) \n",
    "plt.title('Correlation matrix for loyalty features')\n",
    "plt.yticks(rotation='horizontal')\n",
    "plt.xticks(rotation='vertical')"
   ]
  },
  {
   "cell_type": "markdown",
   "metadata": {},
   "source": [
    "Next, you will create scatter plots of each pairwise combination of loyalty variables. The code uses the `lmplot` function from Seaborn. Jitter on both the x and y axes along with high point transparency are used to help deal with over-plotting. Notice that the transparency argument, `alpha`, must be passed to the underling Matplotlib in a dictionary called `scatter_kws`. "
   ]
  },
  {
   "cell_type": "code",
   "execution_count": 8,
   "metadata": {},
   "outputs": [
    {
     "data": {
      "text/plain": [
       "<seaborn.axisgrid.FacetGrid at 0x14f2a0a2438>"
      ]
     },
     "execution_count": 8,
     "metadata": {},
     "output_type": "execute_result"
    },
    {
     "data": {
      "image/png": "[encoded data removed]",
      "text/plain": [
       "<matplotlib.figure.Figure at 0x14f2eba2e10>"
      ]
     },
     "metadata": {},
     "output_type": "display_data"
    }
   ],
   "source": [
    "sns.lmplot(\"loyalty1\", \"loyalty2\", dat, x_jitter=.15, y_jitter=.15, scatter_kws={'alpha':0.2}, fit_reg = False)"
   ]
  },
  {
   "cell_type": "code",
   "execution_count": 9,
   "metadata": {},
   "outputs": [
    {
     "data": {
      "text/plain": [
       "<seaborn.axisgrid.FacetGrid at 0x14f2ec54b00>"
      ]
     },
     "execution_count": 9,
     "metadata": {},
     "output_type": "execute_result"
    },
    {
     "data": {
      "image/png": "[encoded data removed]",
      "text/plain": [
       "<matplotlib.figure.Figure at 0x14f2ec54cf8>"
      ]
     },
     "metadata": {},
     "output_type": "display_data"
    }
   ],
   "source": [
    "sns.lmplot(\"loyalty1\", \"loyalty3\", dat, x_jitter=.15, y_jitter=.15, scatter_kws={'alpha':0.2}, fit_reg = False)"
   ]
  },
  {
   "cell_type": "code",
   "execution_count": 10,
   "metadata": {},
   "outputs": [
    {
     "data": {
      "text/plain": [
       "<seaborn.axisgrid.FacetGrid at 0x14f2ed5e470>"
      ]
     },
     "execution_count": 10,
     "metadata": {},
     "output_type": "execute_result"
    },
    {
     "data": {
      "image/png": "[encoded data removed]",
      "text/plain": [
       "<matplotlib.figure.Figure at 0x14f2ed5e278>"
      ]
     },
     "metadata": {},
     "output_type": "display_data"
    }
   ],
   "source": [
    "sns.lmplot(\"loyalty2\", \"loyalty3\", dat, x_jitter=.15, y_jitter=.15, scatter_kws={'alpha':0.2}, fit_reg = False)"
   ]
  },
  {
   "cell_type": "markdown",
   "metadata": {},
   "source": [
    "![](Mod3_Lab2_-_Association_files/figure-markdown_strict/unnamed-chunk-8-1.png)"
   ]
  },
  {
   "cell_type": "markdown",
   "metadata": {},
   "source": [
    "![](Mod3_Lab2_-_Association_files/figure-markdown_strict/unnamed-chunk-8-3.png)\n",
    "All of the graphs look about the same. It is always good to inspect the\n",
    "plots, as we know that non-linearity can weaken our correlations. Here,\n",
    "we see evidence that each measure is correlated linearly; the\n",
    "associations are simply underwhelming."
   ]
  },
  {
   "cell_type": "markdown",
   "metadata": {},
   "source": [
    "![](Mod3_Lab2_-_Association_files/figure-markdown_strict/unnamed-chunk-9-1.png)\n",
    "\n",
    "We can easily compute the confidence intervals of these correlation coefficients. However, this requires a few steps (don't worry if you don't follow this completely:   \n",
    "1. Transform the correlation from the initial space which we call r to a transformed space z. The distribution of errors is Normal in this transformed space. \n",
    "2. Compute the CI in the transformed space.\n",
    "3. Transform back to the original space."
   ]
  },
  {
   "cell_type": "code",
   "execution_count": 11,
   "metadata": {},
   "outputs": [
    {
     "name": "stdout",
     "output_type": "stream",
     "text": [
      "\n",
      "For loyalty1 vs. loyalty2\n",
      "Correlation = 0.400 with CI of 0.347 to 0.451\n",
      "\n",
      "For loyalty1 vs. loyalty3\n",
      "Correlation = 0.500 with CI of 0.452 to 0.545\n",
      "\n",
      "For loyalty2 vs. loyalty3\n",
      "Correlation = 0.570 with CI of 0.527 to 0.610\n"
     ]
    }
   ],
   "source": [
    "def r_z(r):\n",
    "    return math.log((1 + r) / (1 - r)) / 2.0\n",
    "\n",
    "def z_r(z):\n",
    "    e = math.exp(2 * z)\n",
    "    return((e - 1) / (e + 1))\n",
    "\n",
    "def r_conf_int(r, alpha, n):\n",
    "    # Transform r to z space\n",
    "    z = r_z(r)\n",
    "    # Compute standard error and critcal value in z\n",
    "    se = 1.0 / math.sqrt(n - 3)\n",
    "    z_crit = ss.norm.ppf(1 - alpha/2)\n",
    "\n",
    "    ## Compute CIs with transform to r\n",
    "    lo = z_r(z - z_crit * se)\n",
    "    hi = z_r(z + z_crit * se)\n",
    "    return (lo, hi)\n",
    "\n",
    "print('\\nFor loyalty1 vs. loyalty2')\n",
    "corr_mat = np.array(corr_mat)\n",
    "conf_ints = r_conf_int(corr_mat[1,0], 0.05, 1000)\n",
    "print('Correlation = %4.3f with CI of %4.3f to %4.3f' % (corr_mat[1,0], conf_ints[0], conf_ints[1]))\n",
    "print('\\nFor loyalty1 vs. loyalty3')\n",
    "conf_ints = r_conf_int(corr_mat[2,0], 0.05, 1000)\n",
    "print('Correlation = %4.3f with CI of %4.3f to %4.3f' % (corr_mat[2,0], conf_ints[0], conf_ints[1]))\n",
    "print('\\nFor loyalty2 vs. loyalty3')\n",
    "conf_ints = r_conf_int(corr_mat[2,1], 0.05, 1000)\n",
    "print('Correlation = %4.3f with CI of %4.3f to %4.3f' % (corr_mat[2,1], conf_ints[0], conf_ints[1]))"
   ]
  },
  {
   "cell_type": "markdown",
   "metadata": {},
   "source": [
    "You can see that the CIs of all the correlation coefficients are relatively small compared to the correlation coefficients. This indicates that these coefficients are statistically significant."
   ]
  },
  {
   "cell_type": "markdown",
   "metadata": {},
   "source": [
    "What Claims Can We Make?\n",
    "========================\n",
    "\n",
    "Here, we can make the following claims: each of these variables is\n",
    "correlated with each other, but in reality, the correlations are weaker\n",
    "than you would hope them to be. In this case, we can have a series of\n",
    "conversations about whether these measures of loyalty are assessing\n",
    "different things, whether there are actually different kinds of customer\n",
    "loyalty, or whether the measures are not of high quality. Regardless,\n",
    "there appears to *not* be a large association between our measures of\n",
    "loyalty. In fact, using 95% CIs, we found that we had fairly precise\n",
    "estimate of our correlations: they are not strong. This raises large\n",
    "implications for our organization as it considers using these measures."
   ]
  },
  {
   "cell_type": "code",
   "execution_count": null,
   "metadata": {
    "collapsed": true
   },
   "outputs": [],
   "source": []
  }
 ],
 "metadata": {
  "kernelspec": {
   "display_name": "Python 3",
   "language": "python",
   "name": "python3"
  },
  "language_info": {
   "codemirror_mode": {
    "name": "ipython",
    "version": 3
   },
   "file_extension": ".py",
   "mimetype": "text/x-python",
   "name": "python",
   "nbconvert_exporter": "python",
   "pygments_lexer": "ipython3",
   "version": "3.6.0"
  }
 },
 "nbformat": 4,
 "nbformat_minor": 2
}
